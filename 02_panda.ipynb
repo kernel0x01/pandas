{
 "cells": [
  {
   "cell_type": "code",
   "execution_count": null,
   "metadata": {},
   "outputs": [],
   "source": [
    "import pandas as pd\n",
    "\n",
    "l=[1,2,3,4,5,6]\n",
    "\n",
    "var = pd.DataFrame(l)\n",
    "\n",
    "print(type(var))"
   ]
  },
  {
   "cell_type": "code",
   "execution_count": null,
   "metadata": {},
   "outputs": [],
   "source": [
    "d = {\"a\": [1,2,3,4,5], \"s\":[1,2,3,4,5], 1:[1,2,3,4,5]}\n",
    "\n",
    "var1 = pd.DataFrame(d,columns=[\"s\",1],index=[\"a\",\"s\",\"d\",\"f\",\"g\"])\n",
    "\n",
    "# print(type(var1))\n",
    "print(var1)"
   ]
  },
  {
   "cell_type": "code",
   "execution_count": null,
   "metadata": {},
   "outputs": [],
   "source": [
    "d = {\"a\": [1,2,3,4,5], \"s\":[1,2,3,4,5], 1:[1,2,3,4,5]}\n",
    "\n",
    "var1 = pd.DataFrame(d) \n",
    "\n",
    "# print(type(var1))\n",
    "# print(var1)\n",
    "print(var1[\"a\"][3])"
   ]
  },
  {
   "cell_type": "code",
   "execution_count": null,
   "metadata": {},
   "outputs": [],
   "source": [
    "list_1 = [[1,2,3,4,5],[11,12,13,14,15]]\n",
    "\n",
    "var2 = pd.DataFrame(list_1)\n",
    "\n",
    "print(var2)\n"
   ]
  },
  {
   "cell_type": "code",
   "execution_count": null,
   "metadata": {},
   "outputs": [],
   "source": [
    "sr = {\"s\":pd.Series([1,2,3,4]),\"r\":pd.Series([1,2,3,4])}\n",
    "\n",
    "var3 = pd.DataFrame(sr)\n",
    "\n",
    "var3[\"sdfh\"] = var1[\"s\"] <= 4\n",
    "\n",
    "print(var3)"
   ]
  }
 ],
 "metadata": {
  "kernelspec": {
   "display_name": "ml",
   "language": "python",
   "name": "python3"
  },
  "language_info": {
   "codemirror_mode": {
    "name": "ipython",
    "version": 3
   },
   "file_extension": ".py",
   "mimetype": "text/x-python",
   "name": "python",
   "nbconvert_exporter": "python",
   "pygments_lexer": "ipython3",
   "version": "3.10.7"
  },
  "orig_nbformat": 4,
  "vscode": {
   "interpreter": {
    "hash": "993866df1db17770158d5bbeae2ae6a6461149371bf4719b8c5e24f21a113a74"
   }
  }
 },
 "nbformat": 4,
 "nbformat_minor": 2
}
